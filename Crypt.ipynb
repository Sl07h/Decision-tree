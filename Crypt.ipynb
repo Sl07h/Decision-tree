{
 "cells": [
  {
   "cell_type": "code",
   "execution_count": 29,
   "metadata": {},
   "outputs": [
    {
     "name": "stdout",
     "output_type": "stream",
     "text": [
      "мкжкбыкжиеокбъыкяпжыкжкбыък\n",
      "этотестовыйтекстпростотескт\n"
     ]
    }
   ],
   "source": [
    "import random\n",
    "text = 'это тестовый ТЕКСТ 123 просто тескт'\n",
    "alph = 'абвгдеёжзийклмнопрстуфхцчшщъыьэюя'\n",
    "\n",
    "key = [i for i in range(len(alph))]\n",
    "key = [30, 19, 9, 2, 8, 1, 23, 29, 10, 20, 15, 27, 18, 21, 24, 7, 32, 16, 28, 11, 12, 6, 4, 25, 14, 0, 22, 17, 5, 26, 13, 31, 3]\n",
    "key = dict( (alph[i], alph[key[i]]) for i in range(len(alph)))\n",
    "#random.shuffle(key)\n",
    "def Crypt(text, permutation):\n",
    "    text = text.lower()\n",
    "    alphabet = set(c for c in permutation)\n",
    "    l=[]\n",
    "    for a in text:\n",
    "        if a in permutation:\n",
    "            l.append(permutation[a])\n",
    "    return \"\".join(l)\n",
    "\n",
    "#crypted = Crypt(text,key)\n",
    "#print(crypted)\n",
    "#print(Crypt(crypted, dict( (v,k) for k,v in key.items())))"
   ]
  },
  {
   "cell_type": "code",
   "execution_count": null,
   "metadata": {
    "collapsed": true
   },
   "outputs": [],
   "source": [
    "def GenSolver()"
   ]
  }
 ],
 "metadata": {
  "kernelspec": {
   "display_name": "Python 3",
   "language": "python",
   "name": "python3"
  },
  "language_info": {
   "codemirror_mode": {
    "name": "ipython",
    "version": 3
   },
   "file_extension": ".py",
   "mimetype": "text/x-python",
   "name": "python",
   "nbconvert_exporter": "python",
   "pygments_lexer": "ipython3",
   "version": "3.6.3"
  }
 },
 "nbformat": 4,
 "nbformat_minor": 2
}
