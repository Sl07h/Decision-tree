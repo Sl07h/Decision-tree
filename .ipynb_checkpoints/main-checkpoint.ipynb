{
 "cells": [
  {
   "cell_type": "code",
   "execution_count": 1,
   "metadata": {},
   "outputs": [
    {
     "ename": "SyntaxError",
     "evalue": "invalid syntax (<ipython-input-1-779c3fe3b49f>, line 1)",
     "output_type": "error",
     "traceback": [
      "\u001b[1;36m  File \u001b[1;32m\"<ipython-input-1-779c3fe3b49f>\"\u001b[1;36m, line \u001b[1;32m1\u001b[0m\n\u001b[1;33m    from graphviz\u001b[0m\n\u001b[1;37m                  ^\u001b[0m\n\u001b[1;31mSyntaxError\u001b[0m\u001b[1;31m:\u001b[0m invalid syntax\n"
     ]
    }
   ],
   "source": [
    "%run tree.ipynb"
   ]
  },
  {
   "cell_type": "code",
   "execution_count": 2,
   "metadata": {},
   "outputs": [
    {
     "ename": "NameError",
     "evalue": "name 'math' is not defined",
     "output_type": "error",
     "traceback": [
      "\u001b[1;31m---------------------------------------------------------------------------\u001b[0m",
      "\u001b[1;31mNameError\u001b[0m                                 Traceback (most recent call last)",
      "\u001b[1;32m<ipython-input-2-6b58dcc195ee>\u001b[0m in \u001b[0;36m<module>\u001b[1;34m()\u001b[0m\n\u001b[0;32m     20\u001b[0m \u001b[1;33m\u001b[0m\u001b[0m\n\u001b[0;32m     21\u001b[0m \u001b[1;33m\u001b[0m\u001b[0m\n\u001b[1;32m---> 22\u001b[1;33m \u001b[0mEntropy\u001b[0m\u001b[1;33m(\u001b[0m\u001b[0mdata\u001b[0m\u001b[1;33m)\u001b[0m\u001b[1;33m\u001b[0m\u001b[0m\n\u001b[0m\u001b[0;32m     23\u001b[0m \u001b[0mEntropyByIndex\u001b[0m\u001b[1;33m(\u001b[0m\u001b[0mdata\u001b[0m\u001b[1;33m,\u001b[0m\u001b[1;36m1\u001b[0m\u001b[1;33m)\u001b[0m\u001b[1;33m\u001b[0m\u001b[0m\n\u001b[0;32m     24\u001b[0m \u001b[0mprint\u001b[0m\u001b[1;33m(\u001b[0m\u001b[0mMinEntropy\u001b[0m\u001b[1;33m(\u001b[0m\u001b[0mdata\u001b[0m\u001b[1;33m,\u001b[0m\u001b[1;33m[\u001b[0m\u001b[1;36m1\u001b[0m\u001b[1;33m,\u001b[0m\u001b[1;36m1\u001b[0m\u001b[1;33m,\u001b[0m\u001b[1;36m0\u001b[0m\u001b[1;33m]\u001b[0m\u001b[1;33m)\u001b[0m\u001b[1;33m)\u001b[0m\u001b[1;33m\u001b[0m\u001b[0m\n",
      "\u001b[1;32m<ipython-input-1-259abf78a2cd>\u001b[0m in \u001b[0;36mEntropy\u001b[1;34m(data)\u001b[0m\n\u001b[0;32m      8\u001b[0m     \u001b[1;32mfor\u001b[0m \u001b[0mk\u001b[0m\u001b[1;33m,\u001b[0m\u001b[0mv\u001b[0m \u001b[1;32min\u001b[0m \u001b[0md\u001b[0m\u001b[1;33m.\u001b[0m\u001b[0mitems\u001b[0m\u001b[1;33m(\u001b[0m\u001b[1;33m)\u001b[0m\u001b[1;33m:\u001b[0m\u001b[1;33m\u001b[0m\u001b[0m\n\u001b[0;32m      9\u001b[0m         \u001b[0mp\u001b[0m \u001b[1;33m=\u001b[0m \u001b[0md\u001b[0m\u001b[1;33m[\u001b[0m\u001b[0mk\u001b[0m\u001b[1;33m]\u001b[0m\u001b[1;33m/\u001b[0m\u001b[0mct\u001b[0m\u001b[1;33m\u001b[0m\u001b[0m\n\u001b[1;32m---> 10\u001b[1;33m         \u001b[0mres\u001b[0m \u001b[1;33m-=\u001b[0m \u001b[0mp\u001b[0m\u001b[1;33m*\u001b[0m\u001b[0mmath\u001b[0m\u001b[1;33m.\u001b[0m\u001b[0mlog\u001b[0m\u001b[1;33m(\u001b[0m\u001b[0mp\u001b[0m\u001b[1;33m)\u001b[0m\u001b[1;33m\u001b[0m\u001b[0m\n\u001b[0m\u001b[0;32m     11\u001b[0m         \u001b[0md\u001b[0m\u001b[1;33m[\u001b[0m\u001b[0mk\u001b[0m\u001b[1;33m]\u001b[0m\u001b[1;33m=\u001b[0m\u001b[0mp\u001b[0m\u001b[1;33m\u001b[0m\u001b[0m\n\u001b[0;32m     12\u001b[0m     \u001b[1;32mreturn\u001b[0m \u001b[0mres\u001b[0m\u001b[1;33m\u001b[0m\u001b[0m\n",
      "\u001b[1;31mNameError\u001b[0m: name 'math' is not defined"
     ]
    }
   ],
   "source": [
    "\n",
    "    \n",
    "\n",
    "def SplitData(arr, koef1):\n",
    "    n = int(len(arr)*koef1 + .5)\n",
    "    return tuple([arr[:n], arr[n:]])\n",
    "data=[\n",
    "    [1,0,'cat'],\n",
    "    [1,0,'cat'],\n",
    "    [1,0,'cat'],\n",
    "    [1,0,'cat'],\n",
    "    [1,3,'dog'],\n",
    "\n",
    "    [1,0,'dog'],\n",
    "    [1,0,'dog'],\n",
    "    [1,0,'dog'],\n",
    "    [1,0,'dog'],\n",
    "    [1,0,'cat'],\n",
    "]\n",
    "\n",
    "\n",
    "Entropy(data)\n",
    "EntropyByIndex(data,1)\n",
    "print(MinEntropy(data,[1,1,0]))\n",
    "print(\"----------\")\n",
    "\n",
    "\n",
    "\n",
    "t = Treenode(5, \"root\")\n",
    "t.SetData(data, MinEntropy)\n",
    "print(t)\n",
    "print(t.Count())\n",
    "\n",
    "#print(\"W: \",t.PredictW([1]))\n",
    "#print(t)\n",
    "#print(t.PredictList([2,9]))\n",
    "\n",
    "#print(SplitData(data, .5))\n",
    "\n",
    "#data = [df.iloc[i][0:20].tolist() for i in range(0,4)]\n",
    "#print(\"data:\", *data,'\\n',sep='\\n',)\n",
    "#tree=DecisionTree(data,20)\n",
    "#print(tree)\n",
    "#\n",
    "\n",
    "\n",
    "#df = pd.read_csv(\"connect-4.csv\")\n",
    "#firstN = df.iloc[0:4]\n",
    "#firstN.head()"
   ]
  },
  {
   "cell_type": "code",
   "execution_count": null,
   "metadata": {
    "collapsed": true
   },
   "outputs": [],
   "source": [
    "import random\n",
    "class RandomForest():\n",
    "    def __init__(self, maxdepth=5, treecount=10, koef = 0.3):\n",
    "        self.maxdepth=maxdepth\n",
    "        self.treecount=treecount\n",
    "        self.koef=koef\n",
    "        self.trees = [Treenode(self.maxdepth, \"root\") for i in range(treecount)] \n",
    "    def fit(self, data, f=None):\n",
    "        for t in self.trees:\n",
    "            t.SetData(random.sample(data, int(self.treecount*self.koef+.5)),MinEntropy)\n",
    "    def Predict(self, feaut):\n",
    "        d=dict()\n",
    "        for t in self.trees:\n",
    "            lst = t.PredictList(feaut)\n",
    "            for w in set(lst):\n",
    "                d.setdefault(w,0)\n",
    "                d[w]+=lst.count(w)/float(len(lst))\n",
    "        return max(d, key=d.get)"
   ]
  },
  {
   "cell_type": "code",
   "execution_count": null,
   "metadata": {},
   "outputs": [],
   "source": [
    "df = pd.read_csv(\"connect-4.csv\")#[]#[50000:58000]\n",
    "#print(df[:33000].groupby('win').count())\n",
    "#print(df[33000:].groupby('win').count())\n",
    "\n",
    "pdata=df.values.tolist()\n",
    "#print(pdata[:1])\n",
    "\n",
    "\n",
    "#pddata = [df.iloc[i][0:20].tolist() for i,v in enumerate(df.iterrows())]\n",
    "depth = 6\n",
    "train, validate = SplitData(pdata, .50)\n",
    "tree = Treenode(depth,\"root\")\n",
    "tree.SetData(train)\n",
    "print(\"tree created\")\n",
    "tree2 = Treenode(depth,\"root\")\n",
    "tree2.SetData(train, MinEntropy)\n",
    "print(\"tree2 created\")\n",
    "forest = RandomForest(maxdepth=depth, treecount=30, koef=.7)\n",
    "forest.fit(train,MinEntropy)\n",
    "print(\"forest created\")\n",
    "\n",
    "print(tree.Count())\n",
    "print(tree2.Count())\n",
    "\n",
    "\n",
    "#print(tree)\n",
    "#int(\"\\n\\n\\n\\n\\n\\ntree2-------------===================\\n\", tree2)\n",
    "#//print(tree2)\n",
    "\n",
    "def TestAccuracy(tree, train, validate):\n",
    "    \n",
    "    \n",
    "    truect=0\n",
    "    for a in validate:\n",
    "        actual = a[-1]\n",
    "        predicted = tree.Predict(a[:-1])\n",
    "        #print(actual,\"-->\", predicted)\n",
    "        if(actual==predicted):\n",
    "            truect+=1\n",
    "    print(f\"Train/validate: {len(train)}/{len(validate)}. Accuracy: {float(truect)/len(validate)}\")\n",
    "    \n",
    "#print(len(train), *train,sep='\\n')\n",
    "\n",
    "#print(len(validate), *validate,sep='\\n')\n",
    "validate = [a for a in validate if a[-1]=='draw']\n",
    "TestAccuracy(tree, train, validate)\n",
    "TestAccuracy(tree2, train, validate)\n",
    "TestAccuracy(forest, train, validate)\n"
   ]
  }
 ],
 "metadata": {
  "kernelspec": {
   "display_name": "Python 3",
   "language": "python",
   "name": "python3"
  },
  "language_info": {
   "codemirror_mode": {
    "name": "ipython",
    "version": 3
   },
   "file_extension": ".py",
   "mimetype": "text/x-python",
   "name": "python",
   "nbconvert_exporter": "python",
   "pygments_lexer": "ipython3",
   "version": "3.6.3"
  }
 },
 "nbformat": 4,
 "nbformat_minor": 2
}
